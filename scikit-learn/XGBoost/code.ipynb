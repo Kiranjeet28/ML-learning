{
 "cells": [
  {
   "cell_type": "markdown",
   "id": "6e95f17f",
   "metadata": {},
   "source": [
    "## Gradient Booosting machine"
   ]
  },
  {
   "cell_type": "code",
   "execution_count": 3,
   "id": "574a985e",
   "metadata": {},
   "outputs": [],
   "source": [
    "!pip install numpy pandas matplotlib seaborn scikit-learn graphviz lightgbm xgboost lightgbm --quiet"
   ]
  },
  {
   "cell_type": "code",
   "execution_count": 4,
   "id": "7ccd1c57",
   "metadata": {},
   "outputs": [],
   "source": [
    "import numpy as np\n",
    "import pandas as pd\n",
    "import matplotlib.pyplot as plt\n",
    "import seaborn as sns\n",
    "from sklearn.model_selection import train_test_split\n",
    "from sklearn.metrics import mean_squared_error\n",
    "import xgboost as xgb\n",
    "import lightgbm as lgb"
   ]
  },
  {
   "cell_type": "code",
   "execution_count": 5,
   "id": "553bdf08",
   "metadata": {},
   "outputs": [
    {
     "name": "stderr",
     "output_type": "stream",
     "text": [
      "/tmp/ipykernel_37878/3095757756.py:1: DtypeWarning: Columns (7) have mixed types. Specify dtype option on import or set low_memory=False.\n",
      "  ross_df = pd.read_csv('db/train.csv')\n"
     ]
    }
   ],
   "source": [
    "ross_df = pd.read_csv('db/train.csv')\n",
    "store_df = pd.read_csv('db/store.csv')\n",
    "test_df = pd.read_csv('db/test.csv')\n",
    "submission_df = pd.read_csv('db/sample_submission.csv')\n"
   ]
  },
  {
   "cell_type": "code",
   "execution_count": 6,
   "id": "0da3d1fa",
   "metadata": {},
   "outputs": [],
   "source": [
    "merged_df = pd.merge(ross_df, store_df, on='Store', how='left')\n",
    "merged_test_df = pd.merge(test_df, store_df, on='Store', how='left')"
   ]
  },
  {
   "cell_type": "code",
   "execution_count": 7,
   "id": "e0912f2f",
   "metadata": {},
   "outputs": [],
   "source": [
    "def split_date(df):\n",
    "    df['Date'] = pd.to_datetime(df['Date'])\n",
    "    df['Year'] = df['Date'].dt.year\n",
    "    df['Month'] = df['Date'].dt.month\n",
    "    df['Day'] = df['Date'].dt.day\n",
    "    df['WeekOfYear'] = df['Date'].dt.isocalendar().week"
   ]
  },
  {
   "cell_type": "code",
   "execution_count": 8,
   "id": "c696c29f",
   "metadata": {},
   "outputs": [],
   "source": [
    "split_date(merged_df)\n",
    "split_date(merged_test_df)"
   ]
  },
  {
   "cell_type": "code",
   "execution_count": 9,
   "id": "bb779fbb",
   "metadata": {},
   "outputs": [],
   "source": [
    "merged_df = merged_df[merged_df['Open'] != 0].copy()"
   ]
  },
  {
   "cell_type": "markdown",
   "id": "dee95800",
   "metadata": {},
   "source": [
    "1. Competition"
   ]
  },
  {
   "cell_type": "code",
   "execution_count": 10,
   "id": "f45a4c45",
   "metadata": {},
   "outputs": [],
   "source": [
    "def comp_months(df):\n",
    "    df['competitionOpen'] = 12 * (df.Year - df.CompetitionOpenSinceYear) + (df.Month - df.CompetitionOpenSinceMonth)\n",
    "    df['competitionOpen'] = df['competitionOpen'].map(lambda x: 0 if x < 0 else x).fillna(0)"
   ]
  },
  {
   "cell_type": "code",
   "execution_count": 11,
   "id": "e9d5e56b",
   "metadata": {},
   "outputs": [],
   "source": [
    "comp_months(merged_df)\n",
    "comp_months(merged_test_df)"
   ]
  },
  {
   "cell_type": "markdown",
   "id": "0e998fb2",
   "metadata": {},
   "source": [
    "2. Promo"
   ]
  },
  {
   "cell_type": "code",
   "execution_count": 12,
   "id": "ea8ac1e8",
   "metadata": {},
   "outputs": [],
   "source": [
    "def check_promo_month(row):\n",
    "    month2Str = {1:'Jan', 2:'Feb', 3:'Mar', 4:'Apr', 5:'May', 6:'Jun',\n",
    "                 7:'Jul', 8:'Aug', 9:'Sept', 10:'Oct', 11:'Nov', 12:'Dec'}\n",
    "    try:\n",
    "        pi = row.get('PromoInterval', None)\n",
    "        if pd.isna(pi) or not row.get('Promo2Open', 0):\n",
    "            return 0\n",
    "        months = [m.strip() for m in str(pi).split(',')]\n",
    "        return 1 if month2Str.get(int(row['Month'])) in months else 0\n",
    "    except Exception:\n",
    "        return 0"
   ]
  },
  {
   "cell_type": "code",
   "execution_count": 13,
   "id": "b9a39eb4",
   "metadata": {},
   "outputs": [],
   "source": [
    "def promo_cols(df):\n",
    "    df['Promo2Open'] = 12 * (df.Year - df.Promo2SinceYear) + (df.Month - df.Promo2SinceWeek // 4)\n",
    "    df['Promo2Open'] = df['Promo2Open'].map(lambda x: 0 if x < 0 else x).fillna(0)\n",
    "    df['isPromoMonth'] = df.apply(check_promo_month, axis=1) * df.Promo2"
   ]
  },
  {
   "cell_type": "code",
   "execution_count": 18,
   "id": "aebff8ec",
   "metadata": {},
   "outputs": [],
   "source": [
    "input_cols = ['Store','DayOfWeek','Promo','StateHoliday','SchoolHoliday','StoreType','Assortment', 'CompetitionDistance','competitionOpen','Day','Month','Year','WeekOfYear','Promo2','Promo2Open','isPromoMonth']\n",
    "target_col ='Sales'"
   ]
  },
  {
   "cell_type": "code",
   "execution_count": 19,
   "id": "4ba292ee",
   "metadata": {},
   "outputs": [],
   "source": [
    "promo_cols(merged_df)\n",
    "promo_cols(merged_test_df)\n"
   ]
  },
  {
   "cell_type": "code",
   "execution_count": 32,
   "id": "da9df6c1",
   "metadata": {},
   "outputs": [],
   "source": [
    "inputs =merged_df[input_cols].copy()\n",
    "targets = merged_df[target_col].copy()\n",
    "test_inputs = merged_test_df[input_cols].copy()\n"
   ]
  },
  {
   "cell_type": "code",
   "execution_count": 26,
   "id": "741426b0",
   "metadata": {},
   "outputs": [],
   "source": [
    "numeric_cols = ['Store','Promo','SchoolHoliday', 'CompetitionDistance','competitionOpen','Day','Month','Year','WeekOfYear','Promo2','Promo2Open','isPromoMonth']\n",
    "categorical_cols = ['DayOfWeek','StateHoliday','StoreType','Assortment']"
   ]
  },
  {
   "cell_type": "code",
   "execution_count": 27,
   "id": "3f9a61df",
   "metadata": {},
   "outputs": [
    {
     "name": "stderr",
     "output_type": "stream",
     "text": [
      "/tmp/ipykernel_37878/977383025.py:2: FutureWarning: A value is trying to be set on a copy of a DataFrame or Series through chained assignment using an inplace method.\n",
      "The behavior will change in pandas 3.0. This inplace method will never work because the intermediate object on which we are setting values always behaves as a copy.\n",
      "\n",
      "For example, when doing 'df[col].method(value, inplace=True)', try using 'df.method({col: value}, inplace=True)' or df[col] = df[col].method(value) instead, to perform the operation inplace on the original object.\n",
      "\n",
      "\n",
      "  inputs['CompetitionDistance'] = inputs['CompetitionDistance'].fillna(max_distance *2 , inplace=True)\n",
      "/tmp/ipykernel_37878/977383025.py:2: FutureWarning: Downcasting object dtype arrays on .fillna, .ffill, .bfill is deprecated and will change in a future version. Call result.infer_objects(copy=False) instead. To opt-in to the future behavior, set `pd.set_option('future.no_silent_downcasting', True)`\n",
      "  inputs['CompetitionDistance'] = inputs['CompetitionDistance'].fillna(max_distance *2 , inplace=True)\n",
      "/tmp/ipykernel_37878/977383025.py:3: FutureWarning: A value is trying to be set on a copy of a DataFrame or Series through chained assignment using an inplace method.\n",
      "The behavior will change in pandas 3.0. This inplace method will never work because the intermediate object on which we are setting values always behaves as a copy.\n",
      "\n",
      "For example, when doing 'df[col].method(value, inplace=True)', try using 'df.method({col: value}, inplace=True)' or df[col] = df[col].method(value) instead, to perform the operation inplace on the original object.\n",
      "\n",
      "\n",
      "  merged_test_df['CompetitionDistance'] = merged_test_df['CompetitionDistance'].fillna(max_distance *2 , inplace=True)\n",
      "/tmp/ipykernel_37878/977383025.py:3: FutureWarning: Downcasting object dtype arrays on .fillna, .ffill, .bfill is deprecated and will change in a future version. Call result.infer_objects(copy=False) instead. To opt-in to the future behavior, set `pd.set_option('future.no_silent_downcasting', True)`\n",
      "  merged_test_df['CompetitionDistance'] = merged_test_df['CompetitionDistance'].fillna(max_distance *2 , inplace=True)\n"
     ]
    }
   ],
   "source": [
    "max_distance  = inputs['CompetitionDistance'].max()\n",
    "inputs['CompetitionDistance'] = inputs['CompetitionDistance'].fillna(max_distance *2 , inplace=True)\n",
    "merged_test_df['CompetitionDistance'] = merged_test_df['CompetitionDistance'].fillna(max_distance *2 , inplace=True)\n"
   ]
  },
  {
   "cell_type": "markdown",
   "id": "a4578458",
   "metadata": {},
   "source": [
    "$$Scaler "
   ]
  },
  {
   "cell_type": "code",
   "execution_count": 33,
   "id": "610e8590",
   "metadata": {},
   "outputs": [],
   "source": [
    "from sklearn.preprocessing import MinMaxScaler\n",
    "scaler = MinMaxScaler()\n",
    "inputs[numeric_cols] = scaler.fit_transform(inputs[numeric_cols])\n",
    "test_inputs[numeric_cols] = scaler.transform(test_inputs[numeric_cols])\n"
   ]
  },
  {
   "cell_type": "code",
   "execution_count": 36,
   "id": "36b2320e",
   "metadata": {},
   "outputs": [],
   "source": [
    "from sklearn.preprocessing import StandardScaler, OneHotEncoder\n",
    "for col in categorical_cols:\n",
    "    inputs[col] = inputs[col].astype(str)\n",
    "    test_inputs[col] = test_inputs[col].astype(str)\n",
    "\n",
    "encoder = OneHotEncoder(sparse_output=False, handle_unknown='ignore').fit(inputs[categorical_cols])\n",
    "encoded_cols = list(encoder.get_feature_names_out(categorical_cols))\n",
    "\n"
   ]
  },
  {
   "cell_type": "code",
   "execution_count": 41,
   "id": "2d2a8fd8",
   "metadata": {},
   "outputs": [],
   "source": [
    "from xgboost import XGBRegressor\n",
    "model = XGBRegressor(random_state=42, n_jobs=-1, n_estimators=20, max_depth=4)"
   ]
  },
  {
   "cell_type": "code",
   "execution_count": null,
   "id": "c4068353",
   "metadata": {},
   "outputs": [],
   "source": [
    "model.fit(inputs, targets)"
   ]
  },
  {
   "cell_type": "markdown",
   "id": "7c341a5b",
   "metadata": {},
   "source": [
    "$$KFold"
   ]
  },
  {
   "cell_type": "code",
   "execution_count": 25,
   "id": "d354a1ee",
   "metadata": {},
   "outputs": [],
   "source": [
    "from sklearn.model_selection import KFold\n"
   ]
  },
  {
   "cell_type": "code",
   "execution_count": null,
   "id": "6cf66e3d",
   "metadata": {},
   "outputs": [],
   "source": [
    "from sklearn.metrics import mean_squared_error\n",
    "\n",
    "def rmse(a, b):\n",
    "    return mean_squared_error(a, b, squared=False)"
   ]
  },
  {
   "cell_type": "code",
   "execution_count": null,
   "id": "5adcc707",
   "metadata": {},
   "outputs": [],
   "source": [
    "def train_and_evaluate(X_train, train_targets, X_val, val_targets, **params):\n",
    "    model = XGBRegressor(random_state=42, n_jobs=-1, **params)\n",
    "    model.fit(X_train, train_targets)\n",
    "    train_rmse = rmse(model.predict(X_train), train_targets)\n",
    "    val_rmse = rmse(model.predict(X_val), val_targets)\n",
    "    return model, train_rmse, val_rmse"
   ]
  },
  {
   "cell_type": "code",
   "execution_count": null,
   "id": "72b553a9",
   "metadata": {},
   "outputs": [],
   "source": [
    "kfold = KFold(n_splits=5)"
   ]
  },
  {
   "cell_type": "code",
   "execution_count": null,
   "id": "d297109b",
   "metadata": {},
   "outputs": [],
   "source": [
    "models = []\n",
    "\n",
    "for train_idxs, val_idxs in kfold.split(X):\n",
    "    X_train, train_targets = X.iloc[train_idxs], targets.iloc[train_idxs]\n",
    "    X_val, val_targets = X.iloc[val_idxs], targets.iloc[val_idxs]\n",
    "    model, train_rmse, val_rmse = train_and_evaluate(X_train, \n",
    "                                                     train_targets, \n",
    "                                                     X_val, \n",
    "                                                     val_targets, \n",
    "                                                     max_depth=4, \n",
    "                                                     n_estimators=20)\n",
    "    models.append(model)\n",
    "    print('Train RMSE: {}, Validation RMSE: {}'.format(train_rmse, val_rmse))"
   ]
  },
  {
   "cell_type": "markdown",
   "id": "6092c0f2",
   "metadata": {},
   "source": [
    "function to average predication from the 5 different models "
   ]
  },
  {
   "cell_type": "code",
   "execution_count": null,
   "id": "b1f4feb2",
   "metadata": {},
   "outputs": [],
   "source": [
    "import numpy as np\n",
    "\n",
    "def predict_avg(models, inputs):\n",
    "    return np.mean([model.predict(inputs) for model in models], axis=0)"
   ]
  },
  {
   "cell_type": "markdown",
   "id": "22675ae6",
   "metadata": {},
   "source": [
    "Here's a helper function to test hyperparameters with K-fold cross validation.\n",
    "\n"
   ]
  },
  {
   "cell_type": "code",
   "execution_count": null,
   "id": "1161506c",
   "metadata": {},
   "outputs": [],
   "source": [
    "def test_params_kfold(n_splits, **params):\n",
    "    train_rmses, val_rmses, models = [], [], []\n",
    "    kfold = KFold(n_splits)\n",
    "    for train_idxs, val_idxs in kfold.split(X):\n",
    "        X_train, train_targets = X.iloc[train_idxs], targets.iloc[train_idxs]\n",
    "        X_val, val_targets = X.iloc[val_idxs], targets.iloc[val_idxs]\n",
    "        model, train_rmse, val_rmse = train_and_evaluate(X_train, train_targets, X_val, val_targets, **params)\n",
    "        models.append(model)\n",
    "        train_rmses.append(train_rmse)\n",
    "        val_rmses.append(val_rmse)\n",
    "    print('Train RMSE: {}, Validation RMSE: {}'.format(np.mean(train_rmses), np.mean(val_rmses)))\n",
    "    return models"
   ]
  }
 ],
 "metadata": {
  "kernelspec": {
   "display_name": ".venv",
   "language": "python",
   "name": "python3"
  },
  "language_info": {
   "codemirror_mode": {
    "name": "ipython",
    "version": 3
   },
   "file_extension": ".py",
   "mimetype": "text/x-python",
   "name": "python",
   "nbconvert_exporter": "python",
   "pygments_lexer": "ipython3",
   "version": "3.12.3"
  }
 },
 "nbformat": 4,
 "nbformat_minor": 5
}
