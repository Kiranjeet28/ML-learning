{
 "cells": [
  {
   "cell_type": "code",
   "execution_count": null,
   "id": "0ef79ea6",
   "metadata": {},
   "outputs": [],
   "source": [
    "import pandas as pd\n"
   ]
  },
  {
   "cell_type": "code",
   "execution_count": 2,
   "id": "e7ddc017",
   "metadata": {},
   "outputs": [
    {
     "name": "stdout",
     "output_type": "stream",
     "text": [
      "            HotelName       Location  Rating  PricePerNight  RoomsAvailable\n",
      "0        Grand Palace       New York     4.5            200              50\n",
      "1     Sea View Resort          Miami     4.2            150              30\n",
      "2        Mountain Inn         Denver     4.0            120              20\n",
      "3   City Lights Hotel        Chicago     3.8            100              40\n",
      "4          Royal Stay    Los Angeles     4.7            250              60\n",
      "5        Budget Lodge        Houston     3.5             80              25\n",
      "6       Sunset Suites  San Francisco     4.3            180              35\n",
      "7  Green Valley Hotel        Seattle     4.1            140              28\n",
      "8       Urban Retreat         Boston     4.4            160              32\n",
      "9    Lakefront Resort        Orlando     4.6            220              45\n"
     ]
    }
   ],
   "source": [
    "# import csv data \n",
    "data = pd.read_csv('d.csv')\n",
    "print(data);"
   ]
  },
  {
   "cell_type": "code",
   "execution_count": 15,
   "id": "5e90bc75",
   "metadata": {},
   "outputs": [
    {
     "name": "stdout",
     "output_type": "stream",
     "text": [
      "   id                name  location  rating  rooms_available  \\\n",
      "0   1  Grand Palace Hotel  New York     4.5            120.0   \n",
      "1   2     Sea View Resort     Miami     4.2             80.0   \n",
      "2   3    Mountain Retreat    Denver     2.5              NaN   \n",
      "3   4     City Center Inn   Chicago     4.0            100.0   \n",
      "\n",
      "                                         amenities  \n",
      "0                    [wifi, pool, gym, restaurant]  \n",
      "1                   [wifi, beach access, spa, bar]  \n",
      "2  [wifi, hiking trails, restaurant, pet friendly]  \n",
      "3            [wifi, parking, gym, conference room]  \n"
     ]
    }
   ],
   "source": [
    "# read json data\n",
    "json_data = pd.read_json('d.json')\n",
    "print(json_data)"
   ]
  },
  {
   "cell_type": "code",
   "execution_count": 4,
   "id": "c4a038f8",
   "metadata": {},
   "outputs": [],
   "source": [
    "#  create file \n",
    "json_data.to_csv('new.csv')"
   ]
  },
  {
   "cell_type": "code",
   "execution_count": 7,
   "id": "572647d6",
   "metadata": {},
   "outputs": [
    {
     "name": "stdout",
     "output_type": "stream",
     "text": [
      "                 name  is_good\n",
      "0  Grand Palace Hotel     True\n",
      "1     Sea View Resort     True\n",
      "2    Mountain Retreat     True\n",
      "3     City Center Inn    False\n"
     ]
    }
   ],
   "source": [
    "#lamba function of data \n",
    "json_data['is_good'] = json_data['rating'].apply(lambda x: x > 4)\n",
    "print(json_data[['name', 'is_good']])"
   ]
  },
  {
   "cell_type": "code",
   "execution_count": 16,
   "id": "984a0553",
   "metadata": {},
   "outputs": [
    {
     "name": "stdout",
     "output_type": "stream",
     "text": [
      "                 name  rooms_available\n",
      "0  Grand Palace Hotel            120.0\n",
      "1     Sea View Resort             80.0\n",
      "2    Mountain Retreat              0.0\n",
      "3     City Center Inn            100.0\n"
     ]
    }
   ],
   "source": [
    "# json_data = json_data.dropna(subset=['rooms_available'])\n",
    "# print(json_data[['name', 'rooms_available']])\n",
    "\n",
    "#fill null value\n",
    "json_data['rooms_available'] = json_data['rooms_available'].fillna(0)   \n",
    "print(json_data[['name', 'rooms_available']])"
   ]
  },
  {
   "cell_type": "code",
   "execution_count": 37,
   "id": "c9762f78",
   "metadata": {},
   "outputs": [
    {
     "name": "stdout",
     "output_type": "stream",
     "text": [
      "  name   age  city_Chennai  city_Delhi  city_Mumbai\n",
      "0    A  20.0         False        True        False\n",
      "1    B  25.0         False       False         True\n",
      "2    C  25.0          True       False        False\n",
      "3    D   NaN          True       False        False\n",
      "4    A  20.0         False        True        False\n",
      "5    B  25.0         False       False         True\n",
      "6    C  25.0          True       False        False\n",
      "7    D   NaN          True       False        False\n",
      "   age name\n",
      "0   20    A\n",
      "1   25    B\n",
      "2   25    C\n",
      "3    0    D\n",
      "4   20    A\n",
      "5   25    B\n",
      "6   25    C\n",
      "7    0    D\n"
     ]
    }
   ],
   "source": [
    "\n",
    "\n",
    "\n",
    "# remove duplicate value\n",
    "# Check duplicates\n",
    "# make dummy df\n",
    "df = pd.DataFrame({\n",
    "    'name': ['A', 'B', 'C', 'D'],\n",
    "    'age': [20, 25, 25, None],\n",
    "    'city': ['Delhi', 'Mumbai','Chennai' ,'Chennai']\n",
    "})\n",
    "\n",
    "# duplicate set of value\n",
    "df = pd.concat([df, df], ignore_index=True)\n",
    "# print(df.duplicated())\n",
    "# print(df.duplicated(subset=['city']))\n",
    "# Remove duplicate rows\n",
    "df_no_dup = df.drop_duplicates()\n",
    "# print(df_no_dup)\n",
    "\n",
    "# Remove based on specific column\n",
    "df_no_dup = df.drop_duplicates(subset=[\"name\"])\n",
    "# print(df_no_dup)\n",
    "\n",
    "\n",
    "# Using get_dummies to encode 'city' column\n",
    "df_encoded = pd.get_dummies(df, columns=['city'])\n",
    "print(df_encoded)\n",
    "\n",
    "# Using LabelEncoder to encode 'name' column\n",
    "\n",
    "# Fill NaN values with a default (e.g., 0) before converting to int\n",
    "df['age'] = df['age'].fillna(0).astype(int)\n",
    "print(df[['age', 'name']])"
   ]
  },
  {
   "cell_type": "code",
   "execution_count": null,
   "id": "a45ae651",
   "metadata": {},
   "outputs": [],
   "source": []
  },
  {
   "cell_type": "code",
   "execution_count": null,
   "id": "ddccc530",
   "metadata": {},
   "outputs": [],
   "source": []
  }
 ],
 "metadata": {
  "kernelspec": {
   "display_name": ".myenv",
   "language": "python",
   "name": "python3"
  },
  "language_info": {
   "codemirror_mode": {
    "name": "ipython",
    "version": 3
   },
   "file_extension": ".py",
   "mimetype": "text/x-python",
   "name": "python",
   "nbconvert_exporter": "python",
   "pygments_lexer": "ipython3",
   "version": "3.12.3"
  }
 },
 "nbformat": 4,
 "nbformat_minor": 5
}
