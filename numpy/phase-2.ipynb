{
 "cells": [
  {
   "cell_type": "markdown",
   "id": "1fd95f49",
   "metadata": {},
   "source": [
    "## Numpy Array operations \n"
   ]
  },
  {
   "cell_type": "code",
   "execution_count": 2,
   "id": "66998e15",
   "metadata": {},
   "outputs": [],
   "source": [
    "import numpy as np"
   ]
  },
  {
   "cell_type": "code",
   "execution_count": null,
   "id": "4219017e",
   "metadata": {},
   "outputs": [
    {
     "name": "stdout",
     "output_type": "stream",
     "text": [
      "original array [ 1  2  3  4  5  6  7  8  9 10 11 12]\n",
      "Basic Slicing  [3 4 5 6 7]\n",
      "Advanced Slicing  [ 2  6 10]\n",
      "negative Slicing  [5 6 7 8 9]\n",
      "condition array (array([ 5,  6,  7,  8,  9, 10, 11]),)\n"
     ]
    }
   ],
   "source": [
    "arr = np.arange(1,13)\n",
    "print(\"original array\",arr)\n",
    "print(\"Basic Slicing \",arr[2:7])\n",
    "print(\"Advanced Slicing \",arr[1:10:4])\n",
    "print(\"negative Slicing \",arr[-8:-3])\n",
    "# condition of array \n",
    "condition = arr > 5\n",
    "conditionArray = np.where(condition);\n",
    "#with 2 condition \n",
    "conditionArray2 = np.where(arr > 5, arr < 10, arr) # if else condition type this \n",
    "print(\"condition array\",conditionArray)"
   ]
  },
  {
   "cell_type": "code",
   "execution_count": 13,
   "id": "8c98e52a",
   "metadata": {},
   "outputs": [
    {
     "name": "stdout",
     "output_type": "stream",
     "text": [
      "specific element  9\n",
      "col target  [ 4  9 14]\n"
     ]
    }
   ],
   "source": [
    "arr2d = np.array([[1,2,3,4,5],[6,7,8,9,10],[11,12,13,14,15]])\n",
    "# print(\"2d array\",arr2d)\n",
    "print(\"specific element \", arr2d[1,3])\n",
    "print(\"col target \",arr2d[:,3])"
   ]
  },
  {
   "cell_type": "markdown",
   "id": "fc7a92e1",
   "metadata": {},
   "source": [
    "## Adding & removing Data"
   ]
  },
  {
   "cell_type": "code",
   "execution_count": 24,
   "id": "5a25be98",
   "metadata": {},
   "outputs": [
    {
     "name": "stdout",
     "output_type": "stream",
     "text": [
      "combined array [[ 1  2  3]\n",
      " [ 4  5  6]\n",
      " [ 7  8  9]\n",
      " [10 11 12]]\n",
      "column wise combined array [[ 1  2  3  7  8  9]\n",
      " [ 4  5  6 10 11 12]]\n"
     ]
    }
   ],
   "source": [
    "arr1 = np.array([[1,2,3],[4,5,6]])\n",
    "arr2 = np.array([[7,8,9],[10,11,12]])\n",
    "# combine 2 array\n",
    "combined = np.concatenate((arr1,arr2),axis=0)\n",
    "# column wise combine\n",
    "col_combined = np.concatenate((arr1,arr2),axis=1)\n",
    "print(\"combined array\",combined)\n",
    "print(\"column wise combined array\",col_combined)\n",
    "\n"
   ]
  },
  {
   "cell_type": "markdown",
   "id": "90b28c99",
   "metadata": {},
   "source": [
    "## array compatibility \n"
   ]
  },
  {
   "cell_type": "code",
   "execution_count": 31,
   "id": "4fae67f5",
   "metadata": {},
   "outputs": [
    {
     "name": "stdout",
     "output_type": "stream",
     "text": [
      "compatible array False\n",
      "after adding new row [[ 1  2  3]\n",
      " [ 4  5  6]\n",
      " [ 7  8  9]\n",
      " [10 11 12]]\n",
      "after adding new col [[ 1  2  3 13]\n",
      " [ 4  5  6 14]\n",
      " [ 7  8  9 15]\n",
      " [10 11 12 16]]\n"
     ]
    }
   ],
   "source": [
    "array = np.array([[1,2,3],[4,5,6]])\n",
    "array2 = np.array([[7,8,9],[10,11,12]])\n",
    "array3 = np.array([[13,15],[16,18]])\n",
    "\n",
    "print(\"compatible array\",array.shape == array2.shape == array3.shape) # depth wise\n",
    "\n",
    "# original array\n",
    "arr = np.array([[1,2,3],[4,5,6],[7,8,9]])\n",
    "new_row = np.array([[10,11,12]])\n",
    "# adding new row\n",
    "arr = np.vstack([arr,new_row])\n",
    "print(\"after adding new row\",arr)\n",
    "#h stack \n",
    "new_col = np.array([[13],[14],[15],[16]])\n",
    "arr = np.hstack([arr,new_col])\n",
    "print(\"after adding new col\",arr)"
   ]
  }
 ],
 "metadata": {
  "kernelspec": {
   "display_name": "venv",
   "language": "python",
   "name": "python3"
  },
  "language_info": {
   "codemirror_mode": {
    "name": "ipython",
    "version": 3
   },
   "file_extension": ".py",
   "mimetype": "text/x-python",
   "name": "python",
   "nbconvert_exporter": "python",
   "pygments_lexer": "ipython3",
   "version": "3.12.3"
  }
 },
 "nbformat": 4,
 "nbformat_minor": 5
}
