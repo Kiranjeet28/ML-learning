{
 "cells": [
  {
   "cell_type": "markdown",
   "id": "b61ab4b1",
   "metadata": {},
   "source": [
    "## Numpy array & basics \n",
    "learn about numpy"
   ]
  },
  {
   "cell_type": "code",
   "execution_count": 2,
   "id": "20f15a84",
   "metadata": {},
   "outputs": [],
   "source": [
    "import numpy as np"
   ]
  },
  {
   "cell_type": "markdown",
   "id": "e32ba74d",
   "metadata": {},
   "source": [
    "Creating arrays from scratch"
   ]
  },
  {
   "cell_type": "code",
   "execution_count": 3,
   "id": "735ac983",
   "metadata": {},
   "outputs": [
    {
     "name": "stdout",
     "output_type": "stream",
     "text": [
      "print array of zero [[0. 0. 0. 0.]\n",
      " [0. 0. 0. 0.]\n",
      " [0. 0. 0. 0.]]\n"
     ]
    }
   ],
   "source": [
    "zeros = np.zeros((3,4))\n",
    "print(\"print array of zero\",zeros)"
   ]
  },
  {
   "cell_type": "code",
   "execution_count": null,
   "id": "ce1931ff",
   "metadata": {},
   "outputs": [
    {
     "name": "stdout",
     "output_type": "stream",
     "text": [
      "print array of ones [[1 1 1]\n",
      " [1 1 1]]\n"
     ]
    }
   ],
   "source": [
    "onces = np.ones((2,3),dtype=np.int16)\n",
    "print(\"print array of ones\",onces)"
   ]
  },
  {
   "cell_type": "code",
   "execution_count": 7,
   "id": "9ed99813",
   "metadata": {},
   "outputs": [
    {
     "name": "stdout",
     "output_type": "stream",
     "text": [
      "print array of full [[7 7 7]\n",
      " [7 7 7]]\n"
     ]
    }
   ],
   "source": [
    "full = np.full((2,3),7)\n",
    "print(\"print array of full\",full) "
   ]
  },
  {
   "cell_type": "code",
   "execution_count": null,
   "id": "82c66c68",
   "metadata": {},
   "outputs": [
    {
     "name": "stdout",
     "output_type": "stream",
     "text": [
      "print array of random [[5.23352209 6.53673866 0.06923059 8.3414515 ]\n",
      " [9.65940472 0.24547082 1.46554136 6.60786456]]\n"
     ]
    }
   ],
   "source": [
    "#imp. \n",
    "random = np.random.random((2,4)) \n",
    "print(\"print array of random\",random)"
   ]
  },
  {
   "cell_type": "markdown",
   "id": "70ba3e58",
   "metadata": {},
   "source": [
    "Vector , Matrix & tensor\n"
   ]
  },
  {
   "cell_type": "code",
   "execution_count": 19,
   "id": "2ab58d79",
   "metadata": {},
   "outputs": [
    {
     "name": "stdout",
     "output_type": "stream",
     "text": [
      "print tensor [[[ 1  2  3]\n",
      "  [ 4  5  6]\n",
      "  [ 7  8  9]]\n",
      "\n",
      " [[19 20 21]\n",
      "  [22 23 24]\n",
      "  [25 26 27]]]\n"
     ]
    }
   ],
   "source": [
    "vector = np.array([1,2,3])\n",
    "# print(\"print vector\",vector)\n",
    "\n",
    "matrix = np.array([[1,2,3],[4,5,6],[7,8,9]])\n",
    "# print(\"print matrix\",matrix)\n",
    "\n",
    "tensor = np.array([[[1,2,3],[4,5,6],[7,8,9]],[[19,20,21],[22,23,24],[25,26,27]]])\n",
    "print(\"print tensor\",tensor)\n"
   ]
  },
  {
   "cell_type": "markdown",
   "id": "5fd42c22",
   "metadata": {},
   "source": [
    "Array Properties \n"
   ]
  },
  {
   "cell_type": "code",
   "execution_count": 21,
   "id": "7d3ac852",
   "metadata": {},
   "outputs": [
    {
     "name": "stdout",
     "output_type": "stream",
     "text": [
      "shape of array (2, 3)\n",
      "number of dimension 2\n",
      "data type of array int8\n",
      "size of array 6\n"
     ]
    }
   ],
   "source": [
    "arr = np.array([[1,2,3],[4,5,6]], dtype = np.int8)\n",
    "print(\"shape of array\",arr.shape)\n",
    "print(\"number of dimension\",arr.ndim)\n",
    "print(\"data type of array\",arr.dtype)\n",
    "print(\"size of array\",arr.size)"
   ]
  },
  {
   "cell_type": "markdown",
   "id": "2c096fe8",
   "metadata": {},
   "source": [
    "Array Reshaping "
   ]
  },
  {
   "cell_type": "code",
   "execution_count": null,
   "id": "99d15c6b",
   "metadata": {},
   "outputs": [
    {
     "name": "stdout",
     "output_type": "stream",
     "text": [
      "original array [ 1  2  3  4  5  6  7  8  9 10 11 12]\n",
      "reshaped array [[ 1  2  3  4]\n",
      " [ 5  6  7  8]\n",
      " [ 9 10 11 12]]\n",
      "raveled array [ 1  2  3  4  5  6  7  8  9 10 11 12]\n",
      "transposed array [[ 1  5  9]\n",
      " [ 2  6 10]\n",
      " [ 3  7 11]\n",
      " [ 4  8 12]]\n"
     ]
    }
   ],
   "source": [
    "arr = np.arange(1,13)\n",
    "reshaped = arr.reshape((3,4))\n",
    "print(\"original array\",arr)\n",
    "print(\"reshaped array\",reshaped)\n",
    "# FLATTENED return copy of array\n",
    "# important it return original array in 1D\n",
    "raveled = reshaped.ravel()\n",
    "print(\"raveled array\",raveled)\n",
    "\n",
    "# TRANSPOSE row to column and column to row\n",
    "transposed = reshaped.T\n",
    "print(\"transposed array\",transposed)"
   ]
  }
 ],
 "metadata": {
  "kernelspec": {
   "display_name": "venv",
   "language": "python",
   "name": "python3"
  },
  "language_info": {
   "codemirror_mode": {
    "name": "ipython",
    "version": 3
   },
   "file_extension": ".py",
   "mimetype": "text/x-python",
   "name": "python",
   "nbconvert_exporter": "python",
   "pygments_lexer": "ipython3",
   "version": "3.12.3"
  }
 },
 "nbformat": 4,
 "nbformat_minor": 5
}
